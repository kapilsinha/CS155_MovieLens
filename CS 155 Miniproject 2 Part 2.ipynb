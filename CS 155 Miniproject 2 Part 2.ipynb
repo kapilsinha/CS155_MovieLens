{
 "cells": [
  {
   "cell_type": "markdown",
   "metadata": {},
   "source": [
    "# CS 155 Miniproject 2"
   ]
  },
  {
   "cell_type": "markdown",
   "metadata": {},
   "source": [
    "## Karthik Karnik, Anvita Mishra, Kapil Sinha"
   ]
  },
  {
   "cell_type": "markdown",
   "metadata": {},
   "source": [
    "## Matrix Factorization Visualizations"
   ]
  },
  {
   "cell_type": "code",
   "execution_count": 1,
   "metadata": {
    "collapsed": true
   },
   "outputs": [],
   "source": [
    "import pandas as pd\n",
    "import numpy as np\n",
    "import matplotlib.pyplot as plt\n",
    "%matplotlib inline\n",
    "import seaborn as sns\n",
    "sns.set(color_codes=True)\n",
    "\n",
    "from scipy.sparse.linalg import svds\n",
    "from scipy.sparse import csc_matrix\n",
    "\n",
    "from prob2utils_skeleton import train_model as normal_train_model\n",
    "from prob2utils_global_bias_skeleton import train_model as global_bias_train_model"
   ]
  },
  {
   "cell_type": "code",
   "execution_count": 2,
   "metadata": {
    "collapsed": true
   },
   "outputs": [],
   "source": [
    "# encoding must be latin-1 to handle the format of this data\n",
    "data = np.loadtxt('data/data.txt', delimiter='\\t', encoding='latin-1')\n",
    "# dtype must be None for the function to infer type based on the column\n",
    "movies = np.genfromtxt('data/movies.txt', delimiter='\\t', encoding='latin-1', dtype=None)"
   ]
  },
  {
   "cell_type": "code",
   "execution_count": 3,
   "metadata": {
    "collapsed": true
   },
   "outputs": [],
   "source": [
    "train = np.loadtxt('data/train.txt', delimiter='\\t', encoding='latin-1')\n",
    "test = np.loadtxt('data/test.txt', delimiter='\\t', encoding='latin-1')"
   ]
  },
  {
   "cell_type": "code",
   "execution_count": 4,
   "metadata": {
    "collapsed": true
   },
   "outputs": [],
   "source": [
    "data_df = pd.DataFrame(data)\n",
    "data_df.columns = [\"User ID\", \"Movie ID\", \"Rating\"]\n",
    "movies_df = pd.DataFrame(movies)\n",
    "movies_df.columns = [\"Movie ID\", \"Movie Title\", \"Unknown\", \"Action\", \"Adventure\", \"Animation\", \\\n",
    "                     \"Childrens\", \"Comedy\", \"Crime\", \"Documentary\", \"Drama\", \"Fantasy\", \"Film-Noir\", \\\n",
    "                     \"Horror\", \"Musical\", \"Mystery\", \"Romance\", \"Sci-Fi\", \"Thriller\", \"War\", \"Western\"]\n",
    "train_df = pd.DataFrame(train)\n",
    "train_df.columns = [\"User ID\", \"Movie ID\", \"Rating\"]\n",
    "test_df = pd.DataFrame(test)\n",
    "test_df.columns = [\"User ID\", \"Movie ID\", \"Rating\"]"
   ]
  },
  {
   "cell_type": "code",
   "execution_count": 18,
   "metadata": {
    "scrolled": true
   },
   "outputs": [
    {
     "data": {
      "text/html": [
       "<div>\n",
       "<style>\n",
       "    .dataframe thead tr:only-child th {\n",
       "        text-align: right;\n",
       "    }\n",
       "\n",
       "    .dataframe thead th {\n",
       "        text-align: left;\n",
       "    }\n",
       "\n",
       "    .dataframe tbody tr th {\n",
       "        vertical-align: top;\n",
       "    }\n",
       "</style>\n",
       "<table border=\"1\" class=\"dataframe\">\n",
       "  <thead>\n",
       "    <tr style=\"text-align: right;\">\n",
       "      <th></th>\n",
       "      <th>User ID</th>\n",
       "      <th>Movie ID</th>\n",
       "      <th>Rating</th>\n",
       "    </tr>\n",
       "  </thead>\n",
       "  <tbody>\n",
       "    <tr>\n",
       "      <th>0</th>\n",
       "      <td>196.0</td>\n",
       "      <td>242.0</td>\n",
       "      <td>3.0</td>\n",
       "    </tr>\n",
       "    <tr>\n",
       "      <th>1</th>\n",
       "      <td>186.0</td>\n",
       "      <td>302.0</td>\n",
       "      <td>3.0</td>\n",
       "    </tr>\n",
       "    <tr>\n",
       "      <th>2</th>\n",
       "      <td>22.0</td>\n",
       "      <td>377.0</td>\n",
       "      <td>1.0</td>\n",
       "    </tr>\n",
       "    <tr>\n",
       "      <th>3</th>\n",
       "      <td>244.0</td>\n",
       "      <td>51.0</td>\n",
       "      <td>2.0</td>\n",
       "    </tr>\n",
       "    <tr>\n",
       "      <th>4</th>\n",
       "      <td>166.0</td>\n",
       "      <td>346.0</td>\n",
       "      <td>1.0</td>\n",
       "    </tr>\n",
       "  </tbody>\n",
       "</table>\n",
       "</div>"
      ],
      "text/plain": [
       "   User ID  Movie ID  Rating\n",
       "0    196.0     242.0     3.0\n",
       "1    186.0     302.0     3.0\n",
       "2     22.0     377.0     1.0\n",
       "3    244.0      51.0     2.0\n",
       "4    166.0     346.0     1.0"
      ]
     },
     "execution_count": 18,
     "metadata": {},
     "output_type": "execute_result"
    }
   ],
   "source": [
    "data_df.head()"
   ]
  },
  {
   "cell_type": "code",
   "execution_count": 6,
   "metadata": {},
   "outputs": [
    {
     "data": {
      "text/html": [
       "<div>\n",
       "<style>\n",
       "    .dataframe thead tr:only-child th {\n",
       "        text-align: right;\n",
       "    }\n",
       "\n",
       "    .dataframe thead th {\n",
       "        text-align: left;\n",
       "    }\n",
       "\n",
       "    .dataframe tbody tr th {\n",
       "        vertical-align: top;\n",
       "    }\n",
       "</style>\n",
       "<table border=\"1\" class=\"dataframe\">\n",
       "  <thead>\n",
       "    <tr style=\"text-align: right;\">\n",
       "      <th></th>\n",
       "      <th>Movie ID</th>\n",
       "      <th>Movie Title</th>\n",
       "      <th>Unknown</th>\n",
       "      <th>Action</th>\n",
       "      <th>Adventure</th>\n",
       "      <th>Animation</th>\n",
       "      <th>Childrens</th>\n",
       "      <th>Comedy</th>\n",
       "      <th>Crime</th>\n",
       "      <th>Documentary</th>\n",
       "      <th>...</th>\n",
       "      <th>Fantasy</th>\n",
       "      <th>Film-Noir</th>\n",
       "      <th>Horror</th>\n",
       "      <th>Musical</th>\n",
       "      <th>Mystery</th>\n",
       "      <th>Romance</th>\n",
       "      <th>Sci-Fi</th>\n",
       "      <th>Thriller</th>\n",
       "      <th>War</th>\n",
       "      <th>Western</th>\n",
       "    </tr>\n",
       "  </thead>\n",
       "  <tbody>\n",
       "    <tr>\n",
       "      <th>0</th>\n",
       "      <td>1</td>\n",
       "      <td>Toy Story (1995)</td>\n",
       "      <td>0</td>\n",
       "      <td>0</td>\n",
       "      <td>0</td>\n",
       "      <td>1</td>\n",
       "      <td>1</td>\n",
       "      <td>1</td>\n",
       "      <td>0</td>\n",
       "      <td>0</td>\n",
       "      <td>...</td>\n",
       "      <td>0</td>\n",
       "      <td>0</td>\n",
       "      <td>0</td>\n",
       "      <td>0</td>\n",
       "      <td>0</td>\n",
       "      <td>0</td>\n",
       "      <td>0</td>\n",
       "      <td>0</td>\n",
       "      <td>0</td>\n",
       "      <td>0</td>\n",
       "    </tr>\n",
       "    <tr>\n",
       "      <th>1</th>\n",
       "      <td>2</td>\n",
       "      <td>GoldenEye (1995)</td>\n",
       "      <td>0</td>\n",
       "      <td>1</td>\n",
       "      <td>1</td>\n",
       "      <td>0</td>\n",
       "      <td>0</td>\n",
       "      <td>0</td>\n",
       "      <td>0</td>\n",
       "      <td>0</td>\n",
       "      <td>...</td>\n",
       "      <td>0</td>\n",
       "      <td>0</td>\n",
       "      <td>0</td>\n",
       "      <td>0</td>\n",
       "      <td>0</td>\n",
       "      <td>0</td>\n",
       "      <td>0</td>\n",
       "      <td>1</td>\n",
       "      <td>0</td>\n",
       "      <td>0</td>\n",
       "    </tr>\n",
       "    <tr>\n",
       "      <th>2</th>\n",
       "      <td>3</td>\n",
       "      <td>Four Rooms (1995)</td>\n",
       "      <td>0</td>\n",
       "      <td>0</td>\n",
       "      <td>0</td>\n",
       "      <td>0</td>\n",
       "      <td>0</td>\n",
       "      <td>0</td>\n",
       "      <td>0</td>\n",
       "      <td>0</td>\n",
       "      <td>...</td>\n",
       "      <td>0</td>\n",
       "      <td>0</td>\n",
       "      <td>0</td>\n",
       "      <td>0</td>\n",
       "      <td>0</td>\n",
       "      <td>0</td>\n",
       "      <td>0</td>\n",
       "      <td>1</td>\n",
       "      <td>0</td>\n",
       "      <td>0</td>\n",
       "    </tr>\n",
       "    <tr>\n",
       "      <th>3</th>\n",
       "      <td>4</td>\n",
       "      <td>Get Shorty (1995)</td>\n",
       "      <td>0</td>\n",
       "      <td>1</td>\n",
       "      <td>0</td>\n",
       "      <td>0</td>\n",
       "      <td>0</td>\n",
       "      <td>1</td>\n",
       "      <td>0</td>\n",
       "      <td>0</td>\n",
       "      <td>...</td>\n",
       "      <td>0</td>\n",
       "      <td>0</td>\n",
       "      <td>0</td>\n",
       "      <td>0</td>\n",
       "      <td>0</td>\n",
       "      <td>0</td>\n",
       "      <td>0</td>\n",
       "      <td>0</td>\n",
       "      <td>0</td>\n",
       "      <td>0</td>\n",
       "    </tr>\n",
       "    <tr>\n",
       "      <th>4</th>\n",
       "      <td>5</td>\n",
       "      <td>Copycat (1995)</td>\n",
       "      <td>0</td>\n",
       "      <td>0</td>\n",
       "      <td>0</td>\n",
       "      <td>0</td>\n",
       "      <td>0</td>\n",
       "      <td>0</td>\n",
       "      <td>1</td>\n",
       "      <td>0</td>\n",
       "      <td>...</td>\n",
       "      <td>0</td>\n",
       "      <td>0</td>\n",
       "      <td>0</td>\n",
       "      <td>0</td>\n",
       "      <td>0</td>\n",
       "      <td>0</td>\n",
       "      <td>0</td>\n",
       "      <td>1</td>\n",
       "      <td>0</td>\n",
       "      <td>0</td>\n",
       "    </tr>\n",
       "  </tbody>\n",
       "</table>\n",
       "<p>5 rows × 21 columns</p>\n",
       "</div>"
      ],
      "text/plain": [
       "   Movie ID        Movie Title  Unknown  Action  Adventure  Animation  \\\n",
       "0         1   Toy Story (1995)        0       0          0          1   \n",
       "1         2   GoldenEye (1995)        0       1          1          0   \n",
       "2         3  Four Rooms (1995)        0       0          0          0   \n",
       "3         4  Get Shorty (1995)        0       1          0          0   \n",
       "4         5     Copycat (1995)        0       0          0          0   \n",
       "\n",
       "   Childrens  Comedy  Crime  Documentary   ...     Fantasy  Film-Noir  Horror  \\\n",
       "0          1       1      0            0   ...           0          0       0   \n",
       "1          0       0      0            0   ...           0          0       0   \n",
       "2          0       0      0            0   ...           0          0       0   \n",
       "3          0       1      0            0   ...           0          0       0   \n",
       "4          0       0      1            0   ...           0          0       0   \n",
       "\n",
       "   Musical  Mystery  Romance  Sci-Fi  Thriller  War  Western  \n",
       "0        0        0        0       0         0    0        0  \n",
       "1        0        0        0       0         1    0        0  \n",
       "2        0        0        0       0         1    0        0  \n",
       "3        0        0        0       0         0    0        0  \n",
       "4        0        0        0       0         1    0        0  \n",
       "\n",
       "[5 rows x 21 columns]"
      ]
     },
     "execution_count": 6,
     "metadata": {},
     "output_type": "execute_result"
    }
   ],
   "source": [
    "movies_df.head()"
   ]
  },
  {
   "cell_type": "code",
   "execution_count": 20,
   "metadata": {},
   "outputs": [],
   "source": [
    "# Avoid stupid indexing issues because Y values naturally would have been floats\n",
    "Y_train = np.array(train, dtype=int)\n",
    "Y_test = np.array(test, dtype=int)"
   ]
  },
  {
   "cell_type": "markdown",
   "metadata": {},
   "source": [
    "## Our Homework Code"
   ]
  },
  {
   "cell_type": "code",
   "execution_count": 8,
   "metadata": {
    "collapsed": true
   },
   "outputs": [],
   "source": [
    "def normal_model(Y_train, Y_test):\n",
    "    M = max(max(Y_train[:,0]), max(Y_test[:,0])).astype(int) # users\n",
    "    N = max(max(Y_train[:,1]), max(Y_test[:,1])).astype(int) # movies\n",
    "    print(\"Factorizing with \", M, \" users, \", N, \" movies.\")\n",
    "\n",
    "    reg = 0.1 # arbitrary regularization constant\n",
    "    eta = 0.03 # learning rate\n",
    "\n",
    "    K = 20\n",
    "    U,V, err = normal_train_model(M, N, K, eta, reg, Y_train)\n",
    "    return U, V"
   ]
  },
  {
   "cell_type": "code",
   "execution_count": 9,
   "metadata": {},
   "outputs": [
    {
     "name": "stdout",
     "output_type": "stream",
     "text": [
      "Factorizing with  943  users,  1682  movies.\n"
     ]
    }
   ],
   "source": [
    "Ut_normal, V_normal = normal_model(Y_train, Y_test)"
   ]
  },
  {
   "cell_type": "code",
   "execution_count": 12,
   "metadata": {},
   "outputs": [
    {
     "data": {
      "text/plain": [
       "array([[-0.43026795,  0.34554861, -0.03229387, ..., -0.43249246,\n",
       "         0.47351649, -0.12387663],\n",
       "       [-0.55576087,  0.25679424,  0.23652058, ..., -0.48138301,\n",
       "         0.4283185 ,  0.33536624],\n",
       "       [-0.30784572, -0.64141794,  0.11347604, ..., -0.06628263,\n",
       "         0.22891959, -0.42773196],\n",
       "       ...,\n",
       "       [-0.69798888,  0.11180515,  0.32679471, ..., -0.41472712,\n",
       "         0.27336326,  0.05800823],\n",
       "       [-0.4126295 ,  0.19313172,  0.37289517, ..., -0.60606952,\n",
       "         0.18533661,  0.22067823],\n",
       "       [-0.68232312, -0.4387875 ,  0.36343807, ..., -0.40783446,\n",
       "         0.34441589, -0.09633531]])"
      ]
     },
     "execution_count": 12,
     "metadata": {},
     "output_type": "execute_result"
    }
   ],
   "source": [
    "Ut_normal"
   ]
  },
  {
   "cell_type": "code",
   "execution_count": 13,
   "metadata": {},
   "outputs": [
    {
     "data": {
      "text/plain": [
       "array([[-0.64821936,  0.21496395,  0.65779388, ..., -0.67507861,\n",
       "         0.45583782,  0.21585892],\n",
       "       [-0.43143929,  0.16178595,  0.29910135, ..., -0.53696445,\n",
       "         0.13753832,  0.19372301],\n",
       "       [-0.1051763 , -0.1333233 , -0.20901092, ..., -0.74715256,\n",
       "        -0.08454288, -0.72257973],\n",
       "       ...,\n",
       "       [ 0.03494777,  0.25302254, -0.41286688, ..., -0.10436417,\n",
       "         0.34349404,  0.15035889],\n",
       "       [-0.00527843, -0.04096055,  0.77073263, ..., -0.25894539,\n",
       "         0.26408879, -0.08861736],\n",
       "       [-0.10979314,  0.09654585, -0.17285402, ..., -0.12054226,\n",
       "         0.37095311, -0.21563747]])"
      ]
     },
     "execution_count": 13,
     "metadata": {},
     "output_type": "execute_result"
    }
   ],
   "source": [
    "V_normal"
   ]
  },
  {
   "cell_type": "markdown",
   "metadata": {},
   "source": [
    "## Our Homework Code with global bias terms"
   ]
  },
  {
   "cell_type": "code",
   "execution_count": 10,
   "metadata": {
    "collapsed": true
   },
   "outputs": [],
   "source": [
    "def global_bias_model(Y_train, Y_test):\n",
    "    M = max(max(Y_train[:,0]), max(Y_test[:,0])).astype(int) # users\n",
    "    N = max(max(Y_train[:,1]), max(Y_test[:,1])).astype(int) # movies\n",
    "    print(\"Factorizing with \", M, \" users, \", N, \" movies.\")\n",
    "\n",
    "    reg = 0.1 # arbitrary regularization constant\n",
    "    eta = 0.03 # learning rate\n",
    "\n",
    "    K = 20\n",
    "    U,V, err = global_bias_train_model(M, N, K, eta, reg, Y_train)\n",
    "    return U, V"
   ]
  },
  {
   "cell_type": "code",
   "execution_count": 11,
   "metadata": {},
   "outputs": [
    {
     "name": "stdout",
     "output_type": "stream",
     "text": [
      "Factorizing with  943  users,  1682  movies.\n"
     ]
    }
   ],
   "source": [
    "Ut_global_bias, V_global_bias = global_bias_model(Y_train, Y_test)"
   ]
  },
  {
   "cell_type": "code",
   "execution_count": 14,
   "metadata": {},
   "outputs": [
    {
     "data": {
      "text/plain": [
       "array([[-0.32992777,  1.22748851,  0.25627435, ...,  0.04698692,\n",
       "         0.33059619, -0.65877357],\n",
       "       [-0.27688168,  1.48154055, -0.00214309, ...,  0.53295645,\n",
       "         0.43157264, -1.00154701],\n",
       "       [-0.37257436,  0.69990856,  0.28980274, ...,  0.1113398 ,\n",
       "         0.4508133 , -0.45487497],\n",
       "       ...,\n",
       "       [-0.37556301,  1.48867554,  0.20777512, ...,  0.06509199,\n",
       "         0.78686843, -0.93657968],\n",
       "       [-0.24551388,  1.48086493,  0.3381958 , ...,  0.33963079,\n",
       "         0.44567329, -0.48851089],\n",
       "       [-0.28074007,  1.74027183,  0.12111802, ...,  0.51066505,\n",
       "         0.29378188, -0.38892242]])"
      ]
     },
     "execution_count": 14,
     "metadata": {},
     "output_type": "execute_result"
    }
   ],
   "source": [
    "Ut_global_bias"
   ]
  },
  {
   "cell_type": "code",
   "execution_count": 15,
   "metadata": {},
   "outputs": [
    {
     "data": {
      "text/plain": [
       "array([[-0.61794671,  1.2645151 ,  0.23939471, ...,  0.15275272,\n",
       "         0.27995885, -0.57358897],\n",
       "       [-0.26754781,  1.48937659,  0.35240143, ...,  0.13169123,\n",
       "         0.02692133, -0.01619357],\n",
       "       [-0.49861157,  1.07477935,  0.18234766, ...,  0.71155125,\n",
       "         0.34382568, -0.70218723],\n",
       "       ...,\n",
       "       [-0.42002348, -0.26244785,  0.43791567, ..., -0.30584044,\n",
       "         0.47076878, -0.33534995],\n",
       "       [ 0.30125199,  0.62198818, -0.38120269, ..., -0.31312772,\n",
       "         0.17118216,  0.24016797],\n",
       "       [ 0.21907202, -0.04333329,  0.37857935, ..., -0.31807078,\n",
       "         0.33344849,  0.38833583]])"
      ]
     },
     "execution_count": 15,
     "metadata": {},
     "output_type": "execute_result"
    }
   ],
   "source": [
    "V_global_bias"
   ]
  },
  {
   "cell_type": "markdown",
   "metadata": {},
   "source": [
    "# Off the shelf SVD implementation\n",
    "\n",
    "## SVD with scipy.sparse.linalg.svds"
   ]
  },
  {
   "cell_type": "code",
   "execution_count": 16,
   "metadata": {
    "collapsed": true
   },
   "outputs": [],
   "source": [
    "M = max(max(Y_train[:,0]), max(Y_test[:,0])).astype(int) # users\n",
    "N = max(max(Y_train[:,1]), max(Y_test[:,1])).astype(int) # movies"
   ]
  },
  {
   "cell_type": "code",
   "execution_count": 23,
   "metadata": {},
   "outputs": [],
   "source": [
    "# For some reason, dtype=float is required\n",
    "Y = csc_matrix((Y_train[:, 2], (Y_train[:, 0] - 1, Y_train[:, 1] - 1)), shape=(M, N), dtype=float)"
   ]
  },
  {
   "cell_type": "code",
   "execution_count": 24,
   "metadata": {
    "collapsed": true
   },
   "outputs": [],
   "source": [
    "Ut, S, V = svds(Y, k = 20)"
   ]
  },
  {
   "cell_type": "code",
   "execution_count": 29,
   "metadata": {},
   "outputs": [
    {
     "data": {
      "text/plain": [
       "array([[-0.0294572 , -0.02872727,  0.09958267, ...,  0.00532886,\n",
       "        -0.00646452, -0.06858009],\n",
       "       [ 0.02126707,  0.01648492,  0.00031876, ..., -0.05162523,\n",
       "         0.04947412, -0.01456516],\n",
       "       [-0.01676204, -0.01507433,  0.00460181, ..., -0.02484103,\n",
       "         0.02738109, -0.00619795],\n",
       "       ...,\n",
       "       [ 0.04468681, -0.0022922 ,  0.01187261, ..., -0.00641867,\n",
       "         0.02807787, -0.00839252],\n",
       "       [ 0.01665304, -0.02876654,  0.00460046, ..., -0.02251532,\n",
       "        -0.0081022 , -0.02389851],\n",
       "       [-0.07882847,  0.00834073, -0.02471898, ...,  0.06118871,\n",
       "         0.00675117, -0.04082959]])"
      ]
     },
     "execution_count": 29,
     "metadata": {},
     "output_type": "execute_result"
    }
   ],
   "source": [
    "Ut"
   ]
  },
  {
   "cell_type": "code",
   "execution_count": 30,
   "metadata": {},
   "outputs": [
    {
     "data": {
      "text/plain": [
       "array([[-1.03083330e-02,  9.79796043e-03, -5.17887985e-02, ...,\n",
       "        -9.21480226e-04,  1.40381080e-03, -3.76491445e-03],\n",
       "       [ 4.58842540e-02,  3.29048301e-02, -8.13820678e-03, ...,\n",
       "        -1.33031796e-04, -1.54253189e-03, -1.04975515e-03],\n",
       "       [ 1.50523556e-02,  2.81282526e-03, -1.10328026e-02, ...,\n",
       "        -1.09347307e-04,  1.27155574e-03,  1.41332310e-03],\n",
       "       ...,\n",
       "       [ 1.47819672e-02,  6.43509404e-02,  1.13746252e-02, ...,\n",
       "        -5.94434363e-04,  6.60396035e-04,  3.22627259e-04],\n",
       "       [ 9.26171052e-02,  3.70110538e-03,  2.70581195e-02, ...,\n",
       "         5.10081390e-04, -8.18333632e-05, -3.12961813e-04],\n",
       "       [-9.78700296e-02, -3.53071809e-02, -1.92372756e-02, ...,\n",
       "        -3.50995852e-05, -3.76607079e-04, -3.60137496e-04]])"
      ]
     },
     "execution_count": 30,
     "metadata": {},
     "output_type": "execute_result"
    }
   ],
   "source": [
    "V"
   ]
  },
  {
   "cell_type": "code",
   "execution_count": 25,
   "metadata": {},
   "outputs": [
    {
     "data": {
      "text/plain": [
       "((943, 20), (20,), (20, 1682))"
      ]
     },
     "execution_count": 25,
     "metadata": {},
     "output_type": "execute_result"
    }
   ],
   "source": [
    "Ut.shape, S.shape, V.shape"
   ]
  },
  {
   "cell_type": "code",
   "execution_count": 26,
   "metadata": {
    "collapsed": true
   },
   "outputs": [],
   "source": [
    "A, S2, B = svds(V, k = 2)"
   ]
  },
  {
   "cell_type": "code",
   "execution_count": 27,
   "metadata": {
    "collapsed": true
   },
   "outputs": [],
   "source": [
    "V_tilde = np.matmul(A.transpose(), V)"
   ]
  },
  {
   "cell_type": "code",
   "execution_count": 28,
   "metadata": {},
   "outputs": [
    {
     "data": {
      "text/plain": [
       "array([[-0.06771096, -0.03643044],\n",
       "       [ 0.04638156, -0.00697047],\n",
       "       [ 0.03252391, -0.02049579],\n",
       "       ...,\n",
       "       [ 0.0002737 ,  0.00022347],\n",
       "       [-0.00026716, -0.00124309],\n",
       "       [-0.00079197, -0.0006335 ]])"
      ]
     },
     "execution_count": 28,
     "metadata": {},
     "output_type": "execute_result"
    }
   ],
   "source": [
    "V_tilde.transpose()"
   ]
  },
  {
   "cell_type": "markdown",
   "metadata": {},
   "source": [
    "# How do we use Y_test?"
   ]
  }
 ],
 "metadata": {
  "anaconda-cloud": {},
  "kernelspec": {
   "display_name": "Python 3",
   "language": "python",
   "name": "python3"
  },
  "language_info": {
   "codemirror_mode": {
    "name": "ipython",
    "version": 3
   },
   "file_extension": ".py",
   "mimetype": "text/x-python",
   "name": "python",
   "nbconvert_exporter": "python",
   "pygments_lexer": "ipython3",
   "version": "3.6.2"
  }
 },
 "nbformat": 4,
 "nbformat_minor": 2
}
